{
 "cells": [
  {
   "cell_type": "code",
   "execution_count": 1,
   "id": "14c663f8",
   "metadata": {},
   "outputs": [
    {
     "name": "stdout",
     "output_type": "stream",
     "text": [
      "Defaulting to user installation because normal site-packages is not writeable\n",
      "Requirement already satisfied: nlpcloud in c:\\users\\swaya\\appdata\\roaming\\python\\python312\\site-packages (1.1.47)\n",
      "Requirement already satisfied: requests in c:\\programdata\\anaconda3\\lib\\site-packages (from nlpcloud) (2.32.3)\n",
      "Requirement already satisfied: charset-normalizer<4,>=2 in c:\\programdata\\anaconda3\\lib\\site-packages (from requests->nlpcloud) (3.3.2)\n",
      "Requirement already satisfied: idna<4,>=2.5 in c:\\programdata\\anaconda3\\lib\\site-packages (from requests->nlpcloud) (3.7)\n",
      "Requirement already satisfied: urllib3<3,>=1.21.1 in c:\\programdata\\anaconda3\\lib\\site-packages (from requests->nlpcloud) (2.2.3)\n",
      "Requirement already satisfied: certifi>=2017.4.17 in c:\\programdata\\anaconda3\\lib\\site-packages (from requests->nlpcloud) (2025.1.31)\n"
     ]
    }
   ],
   "source": [
    "!pip install nlpcloud"
   ]
  },
  {
   "cell_type": "markdown",
   "id": "821ecd41",
   "metadata": {},
   "source": [
    "##### code from the nlp cloud for the NER (Entity Extraction)\n"
   ]
  },
  {
   "cell_type": "code",
   "execution_count": 2,
   "id": "0c5fe28c",
   "metadata": {},
   "outputs": [
    {
     "ename": "HTTPError",
     "evalue": "429 Client Error: Too Many Requests for url: https://api.nlpcloud.io/v1/gpu/finetuned-llama-3-70b/entities: Rate limit: maximum number of requests per hour reached. Please contact support to learn how to increase this limit (if you are on the free plan, we encourage you to subscribe to the pay-as-you-go plan which provides a much higher throughput and many free requests). You can change your plan here: https://nlpcloud.com/home/plans.",
     "output_type": "error",
     "traceback": [
      "\u001b[1;31m---------------------------------------------------------------------------\u001b[0m",
      "\u001b[1;31mHTTPError\u001b[0m                                 Traceback (most recent call last)",
      "File \u001b[1;32m~\\AppData\\Roaming\\Python\\Python312\\site-packages\\nlpcloud\\__init__.py:185\u001b[0m, in \u001b[0;36mClient.entities\u001b[1;34m(self, text, searched_entity)\u001b[0m\n\u001b[0;32m    184\u001b[0m \u001b[38;5;28;01mtry\u001b[39;00m:\n\u001b[1;32m--> 185\u001b[0m     r\u001b[38;5;241m.\u001b[39mraise_for_status()\n\u001b[0;32m    186\u001b[0m \u001b[38;5;28;01mexcept\u001b[39;00m HTTPError \u001b[38;5;28;01mas\u001b[39;00m err:\n",
      "File \u001b[1;32mc:\\ProgramData\\anaconda3\\Lib\\site-packages\\requests\\models.py:1024\u001b[0m, in \u001b[0;36mResponse.raise_for_status\u001b[1;34m(self)\u001b[0m\n\u001b[0;32m   1023\u001b[0m \u001b[38;5;28;01mif\u001b[39;00m http_error_msg:\n\u001b[1;32m-> 1024\u001b[0m     \u001b[38;5;28;01mraise\u001b[39;00m HTTPError(http_error_msg, response\u001b[38;5;241m=\u001b[39m\u001b[38;5;28mself\u001b[39m)\n",
      "\u001b[1;31mHTTPError\u001b[0m: 429 Client Error: Too Many Requests for url: https://api.nlpcloud.io/v1/gpu/finetuned-llama-3-70b/entities",
      "\nDuring handling of the above exception, another exception occurred:\n",
      "\u001b[1;31mHTTPError\u001b[0m                                 Traceback (most recent call last)",
      "Cell \u001b[1;32mIn[2], line 4\u001b[0m\n\u001b[0;32m      1\u001b[0m \u001b[38;5;28;01mimport\u001b[39;00m \u001b[38;5;21;01mnlpcloud\u001b[39;00m\n\u001b[0;32m      3\u001b[0m client \u001b[38;5;241m=\u001b[39m nlpcloud\u001b[38;5;241m.\u001b[39mClient(\u001b[38;5;124m\"\u001b[39m\u001b[38;5;124mfinetuned-llama-3-70b\u001b[39m\u001b[38;5;124m\"\u001b[39m, \u001b[38;5;124m\"\u001b[39m\u001b[38;5;124m1538b329a21ac082b685660bb2190976d3b2aca8\u001b[39m\u001b[38;5;124m\"\u001b[39m, gpu\u001b[38;5;241m=\u001b[39m\u001b[38;5;28;01mTrue\u001b[39;00m)\n\u001b[1;32m----> 4\u001b[0m client\u001b[38;5;241m.\u001b[39mentities(\n\u001b[0;32m      5\u001b[0m \u001b[38;5;250m    \u001b[39m\u001b[38;5;124;03m\"\"\"John Doe started learning Javascript when he was 15 years old. After a couple of years he switched to Python and starter learning low level programming. He is now a Go expert at Google.\"\"\"\u001b[39;00m,\n\u001b[0;32m      6\u001b[0m     searched_entity\u001b[38;5;241m=\u001b[39m\u001b[38;5;124m\"\u001b[39m\u001b[38;5;124mprogramming languages\u001b[39m\u001b[38;5;124m\"\u001b[39m\n\u001b[0;32m      7\u001b[0m )\n",
      "File \u001b[1;32m~\\AppData\\Roaming\\Python\\Python312\\site-packages\\nlpcloud\\__init__.py:190\u001b[0m, in \u001b[0;36mClient.entities\u001b[1;34m(self, text, searched_entity)\u001b[0m\n\u001b[0;32m    187\u001b[0m     \u001b[38;5;28;01mif\u001b[39;00m \u001b[38;5;124m\"\u001b[39m\u001b[38;5;124m<!DOCTYPE html>\u001b[39m\u001b[38;5;124m\"\u001b[39m \u001b[38;5;129;01min\u001b[39;00m r\u001b[38;5;241m.\u001b[39mtext:\n\u001b[0;32m    188\u001b[0m         \u001b[38;5;28;01mraise\u001b[39;00m HTTPError(\u001b[38;5;28mstr\u001b[39m(err))\n\u001b[1;32m--> 190\u001b[0m     \u001b[38;5;28;01mraise\u001b[39;00m HTTPError(\u001b[38;5;28mstr\u001b[39m(err) \u001b[38;5;241m+\u001b[39m \u001b[38;5;124m\"\u001b[39m\u001b[38;5;124m: \u001b[39m\u001b[38;5;124m\"\u001b[39m \u001b[38;5;241m+\u001b[39m \u001b[38;5;28mstr\u001b[39m(r\u001b[38;5;241m.\u001b[39mtext))\n\u001b[0;32m    192\u001b[0m \u001b[38;5;28;01mreturn\u001b[39;00m r\u001b[38;5;241m.\u001b[39mjson()\n",
      "\u001b[1;31mHTTPError\u001b[0m: 429 Client Error: Too Many Requests for url: https://api.nlpcloud.io/v1/gpu/finetuned-llama-3-70b/entities: Rate limit: maximum number of requests per hour reached. Please contact support to learn how to increase this limit (if you are on the free plan, we encourage you to subscribe to the pay-as-you-go plan which provides a much higher throughput and many free requests). You can change your plan here: https://nlpcloud.com/home/plans."
     ]
    }
   ],
   "source": [
    "import nlpcloud\n",
    "\n",
    "client = nlpcloud.Client(\"finetuned-llama-3-70b\", \"1538b329a21ac082b685660bb2190976d3b2aca8\", gpu=True)\n",
    "client.entities(\n",
    "    \"\"\"John Doe started learning Javascript when he was 15 years old. After a couple of years he switched to Python and starter learning low level programming. He is now a Go expert at Google.\"\"\",\n",
    "    searched_entity=\"programming languages\"\n",
    ")"
   ]
  },
  {
   "cell_type": "code",
   "execution_count": null,
   "id": "799b0f27",
   "metadata": {},
   "outputs": [
    {
     "data": {
      "text/plain": [
       "{'scored_labels': [{'label': 'POSITIVE', 'score': 1},\n",
       "  {'label': 'joy', 'score': 1}]}"
      ]
     },
     "execution_count": 18,
     "metadata": {},
     "output_type": "execute_result"
    }
   ],
   "source": [
    "import nlpcloud\n",
    "\n",
    "client = nlpcloud.Client(\"finetuned-llama-3-70b\", \"1538b329a21ac082b685660bb2190976d3b2aca8\", gpu=True)\n",
    "client.sentiment(\n",
    "    \"\"\"I hate convoluted products with poor documentation. I see such products all the time. But NLP Cloud is not like that!\"\"\",\n",
    "    target=\"NLP Cloud\"\n",
    ")"
   ]
  },
  {
   "cell_type": "code",
   "execution_count": null,
   "id": "d2317eec",
   "metadata": {},
   "outputs": [
    {
     "data": {
      "text/plain": [
       "{'languages': [{'en': 0.8571397010038821}, {'fr': 0.14285849494083339}]}"
      ]
     },
     "execution_count": 22,
     "metadata": {},
     "output_type": "execute_result"
    }
   ],
   "source": [
    "import nlpcloud\n",
    "\n",
    "client = nlpcloud.Client(\"python-langdetect\", \"1538b329a21ac082b685660bb2190976d3b2aca8\", gpu=False)\n",
    "client.langdetection(\n",
    "    \"\"\"John Doe has been working for Microsoft in Seattle since 1999. Et il parle aussi un peu français.\"\"\"\n",
    ")"
   ]
  },
  {
   "cell_type": "code",
   "execution_count": null,
   "id": "d16ec03a",
   "metadata": {},
   "outputs": [
    {
     "name": "stdout",
     "output_type": "stream",
     "text": [
      "Registration successful.Now Login\n",
      "{'swayamgarg@gmail.com': ['swayam', '1234']}\n",
      "Login Successful\n",
      "{'languages': [{'en': 0.8571402006796576}, {'cy': 0.1428593236459286}]}\n"
     ]
    }
   ],
   "source": [
    "import nlpcloud\n",
    "\n",
    "class NLPApp:\n",
    "\n",
    "    def __init__(self):\n",
    "        # making a dictionary to store the data and making my attribute as private\n",
    "        self.__database = {}\n",
    "        self.__first_menu()\n",
    "\n",
    "\n",
    "    def __first_menu(self):# a private method which will show menu \n",
    "        first_input = input(\"\"\"\n",
    "        HI! How would you proceed?\n",
    "        1. Not a member?Register\n",
    "        2. Already a member? Login\n",
    "        3. Exit\n",
    "        \"\"\")\n",
    "        # when first_input == 1 then register will be caled and when 2 is passed then login will be called\n",
    "        if first_input == '1':\n",
    "            self.__Register()\n",
    "        elif first_input == '2':\n",
    "            self.__Login()\n",
    "\n",
    "    def __second_menu(self):# a private method which will show menu \n",
    "        second_input = input(\"\"\"\n",
    "        HI! How would you proceed?\n",
    "        1. NER\n",
    "        2. Language Detection\n",
    "        3. Sentimental Analysis\n",
    "        4. Logout\n",
    "        \"\"\")\n",
    "        # when first_input == 1 then register will be caled and when 2 is passed then login will be called\n",
    "        if second_input == '1':\n",
    "            self.__ner()\n",
    "        elif second_input == '2':\n",
    "            self.__language_detection()\n",
    "        elif second_input == '3':\n",
    "            self.__sentimental_analysis()   \n",
    "        else:\n",
    "            print(\"Logging out\")\n",
    "\n",
    "\n",
    "    def __Register(self):\n",
    "        name = input(\"Enter name\")\n",
    "        email = input(\"Enter email\")\n",
    "        password  = input(\"Enter password\")\n",
    "\n",
    "        if email in self.__database:\n",
    "            print(\"Email already exists\")\n",
    "        else:\n",
    "            self.__database[email] =[name,password]\n",
    "            print(\"Registration successful.Now Login\")\n",
    "            print(self.__database)\n",
    "            self.__first_menu()\n",
    "\n",
    "\n",
    "\n",
    "    def __Login(self):\n",
    "        email = input(\"Enter email\")\n",
    "        password = input(\"Enter password\")\n",
    "\n",
    "        if email in self.__database:\n",
    "            if self.__database[email][1] == password: #if 2 item of list equal to the password\n",
    "                print(\"Login Successful\")\n",
    "                self.__second_menu()\n",
    "                \n",
    "            else:\n",
    "                print(\"Wrong password .Try again\")\n",
    "                self.__Login()#if password is wrong then making user to login again\n",
    "        else:\n",
    "            print(\"This email is not Registered\")\n",
    "            self.__first_menu()\n",
    "\n",
    "    def __ner(self):\n",
    "        para = input(\"Enter the paragrapah for NER\")\n",
    "        search_term = input(\"What do you want to search for?\")\n",
    "        client = nlpcloud.Client(\"finetuned-llama-3-70b\", \"1538b329a21ac082b685660bb2190976d3b2aca8\", gpu=True)\n",
    "        response = client.entities(para,searched_entity=search_term)\n",
    "\n",
    "        print(response)\n",
    "    \n",
    "    def __language_detection(self):\n",
    "        para = input(\"Enter the paragrapah for Language Detection\")\n",
    "        client = nlpcloud.Client(\"python-langdetect\", \"1538b329a21ac082b685660bb2190976d3b2aca8\", gpu=False)\n",
    "        response = client.langdetection(para)\n",
    "\n",
    "        print(response)\n",
    "\n",
    "    def __sentimental_analysis(self):\n",
    "        para = input(\"Enter the paragrapah for Sentimental Analysis\")\n",
    "        client = nlpcloud.Client(\"finetuned-llama-3-70b\", \"1538b329a21ac082b685660bb2190976d3b2aca8\", gpu=True)\n",
    "        response = client.sentiment(para)\n",
    "\n",
    "        L = []\n",
    "        for i in response['scored_labels']:\n",
    "            L.append(i['score'])\n",
    "        \n",
    "        index = sorted(list(enumerate(L)), key=lambda x: x[1], reverse=True)[0][0]\n",
    "\n",
    "        print(response['scored_labels'][index]['label'])\n",
    "        self.__second_menu()  # Go back to the second menu after processing the request\n",
    "\n",
    "obj  = NLPApp()"
   ]
  }
 ],
 "metadata": {
  "kernelspec": {
   "display_name": "base",
   "language": "python",
   "name": "python3"
  },
  "language_info": {
   "codemirror_mode": {
    "name": "ipython",
    "version": 3
   },
   "file_extension": ".py",
   "mimetype": "text/x-python",
   "name": "python",
   "nbconvert_exporter": "python",
   "pygments_lexer": "ipython3",
   "version": "3.12.7"
  }
 },
 "nbformat": 4,
 "nbformat_minor": 5
}
